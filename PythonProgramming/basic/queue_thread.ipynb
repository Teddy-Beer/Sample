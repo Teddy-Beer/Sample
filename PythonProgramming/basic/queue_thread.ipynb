{
 "cells": [
  {
   "cell_type": "markdown",
   "metadata": {},
   "source": [
    "## Queue (FIFO)"
   ]
  },
  {
   "cell_type": "code",
   "execution_count": null,
   "metadata": {},
   "outputs": [],
   "source": [
    "import queue\n",
    "\n",
    "q = queue.Queue()\n",
    "ql = []\n",
    "\n",
    "for i in range(5):\n",
    "    q.put(i)\n",
    "    ql.append(i)\n",
    "\n",
    "while not q.empty():\n",
    "    print(q.get())\n",
    "\n",
    "print(ql)"
   ]
  },
  {
   "cell_type": "markdown",
   "metadata": {},
   "source": [
    "## Queue(LIFO) = Stack"
   ]
  },
  {
   "cell_type": "code",
   "execution_count": null,
   "metadata": {},
   "outputs": [],
   "source": [
    "import queue\n",
    "\n",
    "q = queue.LifoQueue()\n",
    "ql = []\n",
    "\n",
    "for i in range(5):\n",
    "    q.put(i)\n",
    "    ql.append(i)\n",
    "\n",
    "while not q.empty():\n",
    "    print(q.get())\n",
    "print(ql)"
   ]
  },
  {
   "cell_type": "markdown",
   "metadata": {},
   "source": [
    "## Priority Queue"
   ]
  },
  {
   "cell_type": "code",
   "execution_count": null,
   "metadata": {},
   "outputs": [],
   "source": [
    "import threading, queue\n",
    "\n",
    "q = queue.Queue()\n",
    "\n",
    "def worker():\n",
    "    while True:\n",
    "        item = q.get()\n",
    "        print(f'Working on {item}')\n",
    "        print(f'Finished {item}')\n",
    "        q.task_done()\n",
    "\n",
    "# turn-on the worker thread\n",
    "threading.Thread(target=worker, daemon=True).start()\n",
    "\n",
    "# send thirty task requests to the worker\n",
    "for item in range(30):\n",
    "    q.put(item)\n",
    "print('All task requests sent\\n', end='')\n",
    "\n",
    "# block until all tasks are done\n",
    "q.join()\n",
    "print('All work completed')"
   ]
  },
  {
   "cell_type": "markdown",
   "metadata": {},
   "source": [
    "## 제곱과 세제곱 구하는 함수."
   ]
  },
  {
   "cell_type": "code",
   "execution_count": null,
   "metadata": {},
   "outputs": [],
   "source": [
    "import time\n",
    "\n",
    "num = 11\n",
    "numbers = range(1, num)\n",
    "\n",
    "def square(numbers):\n",
    "    for n in numbers:\n",
    "        time.sleep(1)\n",
    "        if n == num-1:\n",
    "            print('square', n, n*n)\n",
    "\n",
    "def cube(numbers):\n",
    "    for n in numbers:\n",
    "        time.sleep(1)\n",
    "        if n == num-1:\n",
    "            print('cube',n, n*n*n)\n",
    "\n",
    "start = time.time()\n",
    "square(numbers)\n",
    "cube(numbers)\n",
    "end = time.time()\n",
    "time = end - start\n",
    "time"
   ]
  },
  {
   "cell_type": "code",
   "execution_count": null,
   "metadata": {},
   "outputs": [],
   "source": [
    "import time\n",
    "import threading\n",
    "\n",
    "num = 11\n",
    "numbers = range(1, num)\n",
    "\n",
    "def square(numbers):\n",
    "    for n in numbers:\n",
    "        time.sleep(1)\n",
    "        if n == num-1:\n",
    "            print('square', n, n*n)\n",
    "\n",
    "def cube(numbers):\n",
    "    for n in numbers:\n",
    "        time.sleep(1)\n",
    "        if n == num-1:\n",
    "            print('cube',n, n*n*n)\n",
    "\n",
    "\n",
    "start = time.time()\n",
    "t1 = threading.Thread(target=square, args=(numbers,))\n",
    "t2 = threading.Thread(target=cube, args=(numbers,))\n",
    "t1.start()\n",
    "t2.start()\n",
    "t1.join()\n",
    "t2.join()\n",
    "\n",
    "cube(numbers)\n",
    "end = time.time()\n",
    "time = end - start\n",
    "time"
   ]
  },
  {
   "cell_type": "markdown",
   "metadata": {},
   "source": [
    "## Thread"
   ]
  },
  {
   "cell_type": "code",
   "execution_count": null,
   "metadata": {},
   "outputs": [],
   "source": [
    "import time\n",
    "\n",
    "def countdown(n):\n",
    "    while n > 0:\n",
    "        print('Count Down', n)\n",
    "        n -= 1\n",
    "        time.sleep(3)\n",
    "\n",
    "from threading import Thread\n",
    "t = Thread(target=countdown, args=(10, ))\n",
    "t.start()"
   ]
  },
  {
   "cell_type": "markdown",
   "metadata": {},
   "source": [
    "## process"
   ]
  },
  {
   "cell_type": "code",
   "execution_count": 2,
   "metadata": {},
   "outputs": [
    {
     "output_type": "stream",
     "name": "stdout",
     "text": "28698\n501\n20\n/Users/jooyoungson/Sample/PythonProgramming/basic\n"
    }
   ],
   "source": [
    "import os\n",
    "\n",
    "print(os.getpid()) # process ID\n",
    "print(os.getuid()) # user ID\n",
    "print(os.getgid()) # group ID\n",
    "print(os.getcwd()) # current directory"
   ]
  },
  {
   "cell_type": "code",
   "execution_count": null,
   "metadata": {},
   "outputs": [],
   "source": []
  },
  {
   "cell_type": "code",
   "execution_count": null,
   "metadata": {},
   "outputs": [],
   "source": []
  }
 ],
 "metadata": {
  "language_info": {
   "codemirror_mode": {
    "name": "ipython",
    "version": 3
   },
   "file_extension": ".py",
   "mimetype": "text/x-python",
   "name": "python",
   "nbconvert_exporter": "python",
   "pygments_lexer": "ipython3",
   "version": "3.8.2-final"
  },
  "orig_nbformat": 2,
  "kernelspec": {
   "name": "python37464bit2ca5af9ea4dd4c818af2de9ba3f7b37b",
   "display_name": "Python 3.7.4 64-bit"
  }
 },
 "nbformat": 4,
 "nbformat_minor": 2
}