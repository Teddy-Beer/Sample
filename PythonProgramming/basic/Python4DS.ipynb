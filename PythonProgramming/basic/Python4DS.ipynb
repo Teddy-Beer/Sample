{
 "cells": [
  {
   "cell_type": "markdown",
   "metadata": {},
   "source": [
    "# 파이썬 강의 \n",
    " - 일정: 6월8일 ~ 9일\n",
    " - 시간: 10시 - 18시 \n"
   ]
  },
  {
   "cell_type": "markdown",
   "metadata": {},
   "source": [
    "# 강의 실습 환경\n",
    "\n",
    "- Anaconda Python 3.7 Jupyter Notebook\n",
    "\n",
    "- https://www.anaconda.com/products/individual#download-section\n"
   ]
  },
  {
   "cell_type": "markdown",
   "metadata": {},
   "source": [
    "# 목차\n",
    "\n",
    "-------------------------------\n",
    "## Day1 (6/8)\n",
    "\n",
    "1. Python Introduction \n",
    "\n",
    "2. Jupyter Notebook 명령어, 설치\n",
    "\n",
    "3. 변수와 자료형 (feat 메모리)\n",
    "\n",
    "4. 파일과 파일처리 (feat 하드디스크)\n",
    "\n",
    "5. 코드구조\n",
    "\n",
    "6. 함수\n",
    "\n",
    "7. 변수와 객체 그리고 클래스 Intro \n",
    "\n",
    "\n",
    "-------------------------------\n",
    "## Day2 (6/9)\n",
    "\n",
    "8. 클래스와 객체 지향 프로그래밍\n",
    "\n",
    "    (collections)\n",
    "\n",
    "9. 중간점검\n",
    "\n",
    "10. 파일과 폴더\n",
    "\n",
    "11. NumPy\n",
    "\n",
    "12. Pandas\n",
    "\n",
    "13. 마무리"
   ]
  },
  {
   "cell_type": "markdown",
   "metadata": {},
   "source": [
    "\n",
    "## 1. Python Introduction \n"
   ]
  },
  {
   "cell_type": "markdown",
   "metadata": {},
   "source": [
    "## 2. Jupyter Notebook 명령어\n",
    "\n",
    "- 쉘\n",
    "    - 편집모드    \n",
    "    - 실행모드\n",
    "\n",
    "- 명령모드(esc, 파란색)\n",
    "    - a (쉘위에 신규 쉘 생성)\n",
    "    - b (쉘 아래에 신규 쉘 생성)\n",
    "    - dd (쉘 삭제)\n",
    "\n",
    "- 편집모드(enter, 녹색)\n",
    "    - 코드: esc + y\n",
    "    - 코드(라인): esc + l \n",
    "    - 마크다운(md): esc + m\n",
    " \n",
    "- 실행: Shift + enter"
   ]
  },
  {
   "cell_type": "markdown",
   "metadata": {},
   "source": [
    "## 3. 변수와 자료형 (feat 메모리)\n",
    "\n",
    "1) 파이썬 변수 할당\n",
    "\n",
    "- =(할당 연산자)\n",
    "- 변수명, 값\n",
    "- 메모리 이용, 동적 타이핑, 리터럴이라는 용어\n",
    "\n",
    "2) 자료형\n",
    "- Number: int, float\n",
    "- Boolean\n",
    "- String\n",
    "- list, dict, tuple, set\n",
    "    - collection, container, 자료구조 라는 용어로 엄밀히 한다. \n",
    "- list, tuple, string은 sequential한 자료라고 하기도 한다. \n",
    "\n",
    "3) (산술) 연산자\n",
    "\n",
    "4) 슬라이싱, 인덱싱, (대괄호 연산자)\n",
    "\n",
    "5) 자료형 관련 메소드\n",
    "\n",
    "6) 파이썬 내장 함수\n",
    "\n",
    "https://docs.python.org/3/library/functions.html\n",
    "\n",
    "    - type()\n",
    "    - len()\n",
    "    - 형변환 함수: int(), float(), str(), list(), dict(), set(), tuple()\n",
    "    - min(), max(), sum(), pow()"
   ]
  },
  {
   "cell_type": "markdown",
   "metadata": {},
   "source": [
    "## 4. 파일과 파일처리 (feat 하드 디스크)\n",
    "\n",
    "1) 파이썬에서 파일을 접근하는 법\n",
    "\n",
    "- \"파일 객체를 만들어 준다\"\n",
    "- \"만드는 방법 open함수 이용\":  `open()`\n",
    "- https://docs.python.org/3/library/functions.html#open\n",
    "\n",
    "(Q1. 파일 객체와 파일은 다른가? 네)\n",
    "\n",
    "2) 파일 관련 메소드\n",
    "\n",
    "- f.read() \n",
    "- f.write()\n",
    "- f.close()\n",
    "\n",
    "3) with 구문 (context 매니저) "
   ]
  },
  {
   "cell_type": "markdown",
   "metadata": {},
   "source": [
    "## 5. 코드 구조\n",
    "\n",
    "코드를 여러줄 사용하는 것을 코드 궂\n",
    "\n",
    "1) 들여쓰기 (indentation)\n",
    "\n",
    "2) 변수 할당문 이라고 하기도 한다. \n",
    "\n",
    "3) 반복문 (for문, while문)\n",
    "\n",
    "- iterable, 순회가능하다는 것의 의미\n",
    "- 논리 연산자\n",
    "\n",
    "4) 조건문 (if, elif, else)\n",
    "\n",
    "- 논리 연산자\n",
    "\n",
    "5) 예외 처리문 (try, except, else, finally)\n",
    "\n",
    "- 가타... raise"
   ]
  },
  {
   "cell_type": "markdown",
   "metadata": {},
   "source": [
    "## 6. 함수\n",
    "\n",
    "1) def 키워드\n",
    "\n",
    "2) 함수의 정의와 호출\n",
    "\n",
    "3) 함수의 입력과 출력 \n",
    "\n",
    "- 입력: 인자(Argument), 파라미터(parameter)\n",
    "- 출력: return의 유무\n",
    "\n",
    "4) 인자\n",
    "- keyword Argument\n",
    "- positional Argument"
   ]
  },
  {
   "cell_type": "markdown",
   "metadata": {},
   "source": [
    "## 7. 변수와 객체 그리고 클래스 Intro\n",
    "\n",
    "1) 파이썬에서 모든 것은 객체로 이루어져 있다. \n",
    "\n",
    "2) 변수의 의미\n",
    "\n",
    "3) 얕은 복사, 깊은복사\n",
    "- id()\n",
    "\n",
    "4) 클래스문법\n",
    "- 클래스 선언\n",
    "- 클래스 사용\n",
    "- 클래스의 상태와 동작은 속성과 메소드\n",
    "    - self\n",
    "- 생성자 `__init__`\n",
    "- 멤버변수와 인스턴스 변수\n",
    "- 상속\n",
    "    - 메소드 재정의\n",
    "    - 메소드 오버라이드\n",
    "    - 부모클래스 호출: super()\n"
   ]
  },
  {
   "cell_type": "markdown",
   "metadata": {},
   "source": [
    "## 8. 클래스와 객체지향 프로그래밍\n",
    "\n",
    "#### <클래스 문법>\n",
    "\n",
    "1) 클래스 선언\n",
    "\n",
    "2) 클래스 사용\n",
    "\n",
    "3) 클래스의 상태와 동작은 속성과 메소드\n",
    "- self\n",
    "\n",
    "4) 생성자 `__init__`\n",
    "\n",
    "5) 멤버변수와 인스턴스 변수\n",
    "\n",
    "6) 상속\n",
    "\n",
    "- 메소드 재정의\n",
    "- 메소드 오버라이드\n",
    "- 부모클래스 호출: super()\n",
    "\n",
    "\n",
    "#### <객체를 사용하는 이유>\n"
   ]
  },
  {
   "cell_type": "markdown",
   "metadata": {},
   "source": [
    "## (collections)\n",
    "\n",
    "https://docs.python.org/3.7/library/collections.html"
   ]
  },
  {
   "cell_type": "markdown",
   "metadata": {},
   "source": [
    "\n",
    "## 9. 중간 점검\n",
    "\n",
    "1) 예외처리와 조건문, 딕셔너리 응용문제 \n",
    "\n",
    "2) 클래스를 이용한 데이터 처리  응용문제"
   ]
  },
  {
   "cell_type": "markdown",
   "metadata": {},
   "source": [
    "## 10. 파일과 경로\n",
    "\n",
    "1) 파일 다루기 - csv파일\n",
    "\n",
    "2) path 관련 함수\n",
    "\n",
    "3) os, sys 관련 함수"
   ]
  },
  {
   "cell_type": "markdown",
   "metadata": {},
   "source": [
    "## 11. NumPy\n",
    "\n",
    "1) array 만들기\n",
    "\n",
    "- arrange()\n",
    "- array([])\n",
    "\n",
    "2) 크기 (size, shape, dim)\n",
    "\n",
    "- np.size\n",
    "- np.shape\n",
    "- np.dim\n",
    "\n",
    "3) type\n",
    "\n",
    "- a.dtype\n",
    "- type(a)\n",
    "\n",
    "4) 빈번한 에러\n",
    "\n",
    "5)  특수 행렬 : 0행렬, 1행렬, 단위 행렬\n",
    "\n",
    "- np.zeros([])\n",
    "- np.ones([])\n",
    "- np.eye()\n",
    "\n",
    "6) random\n",
    "\n",
    "- np.random.randint\n",
    "- np.random.choice\n",
    "- np.random.permutation\n",
    "\n",
    "7) reshape, flatten\n",
    "\n",
    "- np.reshape()\n",
    "- np.flatten()\n",
    "\n",
    "8) slicing\n",
    "\n",
    "9) 주요 연산\n",
    "\n",
    "- 행렬연산과 브로드 캐스팅\n",
    "- np.dot()\n",
    "- np.transpose()\n",
    "- np.sum()\n",
    "- np.sqrt()"
   ]
  },
  {
   "cell_type": "markdown",
   "metadata": {},
   "source": [
    "## 12. Pandas\n",
    "\n",
    "1) series와 dataframe\n",
    "\n",
    "2) 파일 읽기와 저장\n",
    "\n",
    "3) EDA 연습!"
   ]
  },
  {
   "cell_type": "markdown",
   "metadata": {},
   "source": [
    "## 13. 마무리"
   ]
  },
  {
   "cell_type": "code",
   "execution_count": null,
   "metadata": {},
   "outputs": [],
   "source": []
  }
 ],
 "metadata": {
  "language_info": {
   "codemirror_mode": {
    "name": "ipython",
    "version": 3
   },
   "file_extension": ".py",
   "mimetype": "text/x-python",
   "name": "python",
   "nbconvert_exporter": "python",
   "pygments_lexer": "ipython3",
   "version": "3.8.2-final"
  },
  "orig_nbformat": 2,
  "kernelspec": {
   "name": "python37464bit2ca5af9ea4dd4c818af2de9ba3f7b37b",
   "display_name": "Python 3.7.4 64-bit"
  }
 },
 "nbformat": 4,
 "nbformat_minor": 2
}