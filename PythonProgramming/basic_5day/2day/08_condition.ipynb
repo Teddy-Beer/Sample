{
 "cells": [
  {
   "cell_type": "markdown",
   "metadata": {
    "slideshow": {
     "slide_type": "slide"
    }
   },
   "source": [
    "## 조건문\n",
    "1. if\n",
    "1. else\n",
    "1. elif\n",
    "1. 삼항연산자"
   ]
  },
  {
   "cell_type": "markdown",
   "metadata": {
    "slideshow": {
     "slide_type": "slide"
    }
   },
   "source": [
    "### 1. if\n",
    "- 조건에 따라서 코드를 실행시키고 싶을때 사용합니다.\n",
    "- condition이 True이면 code_1이 실행 됩니다.\n",
    "```\n",
    "if <condition>:\n",
    "    <code_1>\n",
    "```"
   ]
  },
  {
   "cell_type": "code",
   "execution_count": 1,
   "metadata": {
    "slideshow": {
     "slide_type": "slide"
    }
   },
   "outputs": [
    {
     "name": "stdout",
     "output_type": "stream",
     "text": [
      "if\n"
     ]
    }
   ],
   "source": [
    "state = True\n",
    "if state:\n",
    "    print(\"if\")"
   ]
  },
  {
   "cell_type": "code",
   "execution_count": 2,
   "metadata": {},
   "outputs": [
    {
     "name": "stdout",
     "output_type": "stream",
     "text": [
      "end\n"
     ]
    }
   ],
   "source": [
    "state = False\n",
    "if state:\n",
    "    print(\"if\")\n",
    "print(\"end\")"
   ]
  },
  {
   "cell_type": "markdown",
   "metadata": {
    "slideshow": {
     "slide_type": "slide"
    }
   },
   "source": [
    "### 2. else\n",
    "condition이 False이면 code_2 가 실행됩니다.\n",
    "```\n",
    "if <condition>:\n",
    "    <code_1>\n",
    "else:\n",
    "    <code_2>\n",
    "```"
   ]
  },
  {
   "cell_type": "code",
   "execution_count": 3,
   "metadata": {
    "slideshow": {
     "slide_type": "slide"
    }
   },
   "outputs": [
    {
     "name": "stdout",
     "output_type": "stream",
     "text": [
      "else\n"
     ]
    }
   ],
   "source": [
    "state = False\n",
    "if state:\n",
    "    print(\"if\")\n",
    "else:\n",
    "    print(\"else\")"
   ]
  },
  {
   "cell_type": "markdown",
   "metadata": {
    "slideshow": {
     "slide_type": "slide"
    }
   },
   "source": [
    "### 3. elif\n",
    "condition_1이 False이면 condition_2를 확인하여 condition_2가 True이면 code_2 가 실행됩니다.\n",
    "```\n",
    "if <condition_1>:\n",
    "    <code_1>\n",
    "elif <condition_2>:\n",
    "    <code_2>\n",
    "else:\n",
    "    <code_3>\n",
    "```"
   ]
  },
  {
   "cell_type": "code",
   "execution_count": 4,
   "metadata": {
    "slideshow": {
     "slide_type": "slide"
    }
   },
   "outputs": [
    {
     "name": "stdout",
     "output_type": "stream",
     "text": [
      "a == b\n"
     ]
    }
   ],
   "source": [
    "# 비교 연산자 사용\n",
    "a, b = 30, 30\n",
    "if a < b:\n",
    "    print(\"a < b\")\n",
    "elif a == b:\n",
    "    print(\"a == b\")\n",
    "else:\n",
    "    print(\"a > b\")"
   ]
  },
  {
   "cell_type": "code",
   "execution_count": 5,
   "metadata": {},
   "outputs": [
    {
     "name": "stdout",
     "output_type": "stream",
     "text": [
      "a == b\n"
     ]
    }
   ],
   "source": [
    "if a < b:\n",
    "    print(\"a < b\")\n",
    "elif a == b:\n",
    "    print(\"a == b\")"
   ]
  },
  {
   "cell_type": "code",
   "execution_count": 6,
   "metadata": {
    "slideshow": {
     "slide_type": "slide"
    }
   },
   "outputs": [
    {
     "name": "stdout",
     "output_type": "stream",
     "text": [
      "a == b\n"
     ]
    }
   ],
   "source": [
    "a, b = 30, 30\n",
    "if a < b:\n",
    "    print(\"a < b\")\n",
    "if a == b:\n",
    "    print(\"a == b\")\n",
    "if a > b:\n",
    "    print(\"a > b\")"
   ]
  },
  {
   "cell_type": "code",
   "execution_count": 7,
   "metadata": {},
   "outputs": [
    {
     "name": "stdout",
     "output_type": "stream",
     "text": [
      "code 2\n"
     ]
    }
   ],
   "source": [
    "# 논리 연산자 사용\n",
    "a, b = 10, 20\n",
    "if a < 20 and b < 10:\n",
    "    print(\"code 1\")\n",
    "else:\n",
    "    print(\"code 2\")"
   ]
  },
  {
   "cell_type": "markdown",
   "metadata": {
    "slideshow": {
     "slide_type": "skip"
    }
   },
   "source": [
    "##### Quiz 1\n",
    "- 숫자를 입력받아 짝수이면 even, 홀수이면 odd를 출력하는 코드를 작성하세요.\n",
    "- 결과\n",
    "```\n",
    "insert number : 13\n",
    "odd\n",
    "```"
   ]
  },
  {
   "cell_type": "markdown",
   "metadata": {
    "slideshow": {
     "slide_type": "skip"
    }
   },
   "source": [
    "##### Quiz 2\n",
    "- 점수를 입력받아 학점을 출력하는 코드를 작성하세요.\n",
    "\n",
    "```\n",
    "90 ~ 100 : A\n",
    "80 ~ 89  : B\n",
    "70 ~ 79  : C\n",
    "60 ~ 69  : D\n",
    "0 ~ 60   : F\n",
    "```\n",
    "\n",
    "- 결과\n",
    "\n",
    "```\n",
    "insert point :87\n",
    "B\n",
    "```"
   ]
  },
  {
   "cell_type": "markdown",
   "metadata": {
    "slideshow": {
     "slide_type": "skip"
    }
   },
   "source": [
    "##### Quiz 3\n",
    "- 숫자을 입력받아 3의 배수이면 fizz, 5의 배수이면 buzz, 3과 5의 배수이면 fizzbuzz를 출력하고 3과 5의 배수가 아니면 입력한 숫자를 출력하는 코드를 작성하세요.\n",
    "\n",
    "- 결과\n",
    "\n",
    "```\n",
    "insert number : 15\n",
    "fizzbuzz\n",
    "\n",
    "insert number : 11\n",
    "11\n",
    "```"
   ]
  },
  {
   "cell_type": "markdown",
   "metadata": {
    "slideshow": {
     "slide_type": "skip"
    }
   },
   "source": [
    "##### Quiz 4\n",
    "- 최초 계좌에 10000원이 들어 있습니다. \n",
    "- 인출 금액을 입력받습니다.\n",
    "- 인출이 가능하면 True와 잔액을 출력하고 계좌에서 인출 금액을 차감시키세요.\n",
    "- 인출이 불가능하면 False를 출력하고 얼마를 인출할수 있는지 출력하세요.\n",
    "- 인출은 여러번 가능합니다.\n",
    "\n",
    "\n",
    "```\n",
    "account = 10000\n",
    "\n",
    "# 첫번째 인출\n",
    "인출할 금액을 입력하세요 : 7000\n",
    "True 잔액이 3000원 남았습니다.\n",
    "\n",
    "# 두번째 인출\n",
    "인출할 금액을 입력하세요 : 5000\n",
    "False 인출금액이 2000원 부족합니다.\n",
    "```\n"
   ]
  },
  {
   "cell_type": "code",
   "execution_count": 5,
   "metadata": {},
   "outputs": [],
   "source": [
    "account = 10000"
   ]
  },
  {
   "cell_type": "markdown",
   "metadata": {
    "slideshow": {
     "slide_type": "slide"
    }
   },
   "source": [
    "### 4. 삼항연산\n",
    "condition이 True이면 A를 리턴하고 condition이 False이면 B를 리턴합니다.\n",
    "```\n",
    "A if (condition) else B\n",
    "```"
   ]
  },
  {
   "cell_type": "code",
   "execution_count": 11,
   "metadata": {
    "slideshow": {
     "slide_type": "slide"
    }
   },
   "outputs": [
    {
     "name": "stdout",
     "output_type": "stream",
     "text": [
      "2\n"
     ]
    }
   ],
   "source": [
    "data = 0\n",
    "if data:\n",
    "    print(1)\n",
    "else:\n",
    "    print(2)"
   ]
  },
  {
   "cell_type": "code",
   "execution_count": 12,
   "metadata": {},
   "outputs": [
    {
     "data": {
      "text/plain": [
       "False"
      ]
     },
     "execution_count": 12,
     "metadata": {},
     "output_type": "execute_result"
    }
   ],
   "source": [
    "data = 0\n",
    "True if data else False"
   ]
  },
  {
   "cell_type": "code",
   "execution_count": 13,
   "metadata": {},
   "outputs": [
    {
     "data": {
      "text/plain": [
       "True"
      ]
     },
     "execution_count": 13,
     "metadata": {},
     "output_type": "execute_result"
    }
   ],
   "source": [
    "data = 1\n",
    "True if data else False"
   ]
  },
  {
   "cell_type": "code",
   "execution_count": 14,
   "metadata": {
    "slideshow": {
     "slide_type": "slide"
    }
   },
   "outputs": [
    {
     "data": {
      "text/plain": [
       "'male'"
      ]
     },
     "execution_count": 14,
     "metadata": {},
     "output_type": "execute_result"
    }
   ],
   "source": [
    "# 1: male, 2: female를 출력하는 코드\n",
    "data1 = 1\n",
    "\"male\" if data == 1 else \"female\""
   ]
  },
  {
   "cell_type": "code",
   "execution_count": 15,
   "metadata": {},
   "outputs": [
    {
     "data": {
      "text/plain": [
       "'female'"
      ]
     },
     "execution_count": 15,
     "metadata": {},
     "output_type": "execute_result"
    }
   ],
   "source": [
    "data2 = 2\n",
    "result = \"male\" if data2 == 1 else \"female\"\n",
    "result"
   ]
  },
  {
   "cell_type": "markdown",
   "metadata": {
    "slideshow": {
     "slide_type": "skip"
    }
   },
   "source": [
    "##### Quiz 5\n",
    "- 삼항연산을 이용하여 값을 입력받아 짝수이면 even, 홀수이면 odd를 출력하는 코드를 작성하세요.\n",
    "- 결과\n",
    "```\n",
    "insert number : 17\n",
    "'odd'\n",
    "```"
   ]
  }
 ],
 "metadata": {
  "celltoolbar": "Slideshow",
  "kernelspec": {
   "display_name": "Python 3",
   "language": "python",
   "name": "python3"
  },
  "language_info": {
   "codemirror_mode": {
    "name": "ipython",
    "version": 3
   },
   "file_extension": ".py",
   "mimetype": "text/x-python",
   "name": "python",
   "nbconvert_exporter": "python",
   "pygments_lexer": "ipython3",
   "version": "3.7.3"
  }
 },
 "nbformat": 4,
 "nbformat_minor": 2
}
