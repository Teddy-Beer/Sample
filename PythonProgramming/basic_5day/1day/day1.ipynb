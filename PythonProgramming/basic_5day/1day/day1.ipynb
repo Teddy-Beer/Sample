{
 "cells": [
  {
   "cell_type": "markdown",
   "metadata": {},
   "source": [
    "## 변수와 파이썬 자료형\n",
    "\n",
    "- 파이썬 변수란?\n",
    "    - 메모리(RAM)에 저장\n",
    "    - 비휘발성 메모리\n",
    "- 변수 선언법\n",
    "    - 변수이름, 자료형\n",
    "    - *파이썬은 동적 타이핑이 가능한 언어이므로 변수 선언시 자료구조를 명시해 주지 않아도 된다. \n",
    "- 자료형\n",
    "    - 숫자(Number)\n",
    "    - 불린(Boolean)\n",
    "    - 문자열\n",
    "    - 리스트\n",
    "    - 튜플\n",
    "    - 셋\n",
    "    - 딕셔너리  "
   ]
  },
  {
   "cell_type": "markdown",
   "metadata": {},
   "source": [
    "### Jupyter notebook 사용법\n",
    "\n",
    "- mode\n",
    " - 명령모드\n",
    "     - 셀 수정\n",
    "     - esc\n",
    " - 편집모드\n",
    "     - 셀 내용 수정\n",
    "     - enter\n",
    "- cell style\n",
    " - code\n",
    "     - 코드를 작성하기 위한 스타일\n",
    " - markdown\n",
    "     - 마크다운을 작성하기 위한 셀 스타일\n",
    "\n",
    "- 단축키\n",
    " - tab : 자동완성\n",
    " - shift + enter : 셀 코드가 실행\n",
    " - shift + tab : docstring 보기\n",
    " - (command) + / : 주석설정\n",
    " - (명령모드, esc) (command, 맥북)+ a : 위에 셀 생성\n",
    " - (명령모드, eac) (command, 맥북)+ b : 아래에 셀 생성"
   ]
  },
  {
   "cell_type": "markdown",
   "metadata": {},
   "source": [
    "### 자료형\n",
    "\n",
    "- 변수를 선언할 때 메모리에 저장공간이 만들어지는데, 저장공간에 저장하는 데이터의 자료 타입을 설정\n",
    "- 변수를 선언할 때 메모리 공간을 효율적으로 사용하기 위해서 만들어진 개념\n",
    "- 동적타이핑: 변수를 선언할 때 변수에 저장되는 값에 따라서 자동으로 데이터 타입이 설정되는 기능\n",
    "- 데이터 타입을 확인하는 함수: type(변수명)"
   ]
  },
  {
   "cell_type": "code",
   "execution_count": 2,
   "metadata": {},
   "outputs": [],
   "source": [
    "a = 3"
   ]
  },
  {
   "cell_type": "code",
   "execution_count": 4,
   "metadata": {},
   "outputs": [
    {
     "output_type": "execute_result",
     "data": {
      "text/plain": "4453653216"
     },
     "metadata": {},
     "execution_count": 4
    }
   ],
   "source": []
  },
  {
   "cell_type": "code",
   "execution_count": null,
   "metadata": {},
   "outputs": [],
   "source": []
  },
  {
   "cell_type": "markdown",
   "metadata": {},
   "source": [
    "### 자료형\n",
    "- integer: 정수\n",
    "- float: 실수\n",
    "- Boolean: True,False\n",
    "- String: 문자열\n",
    "- List: 순서가 있는 데이터의 집합\n",
    "- Tuple: 수정이 불가능한 순서가 있는 데이터의 집합\n",
    "- Set: Key값으로만 이루어진 data type\n",
    "- Dictionary: 순서가 없고, key값과 value값으로 이루어진 data type"
   ]
  },
  {
   "cell_type": "code",
   "execution_count": null,
   "metadata": {},
   "outputs": [],
   "source": []
  },
  {
   "cell_type": "markdown",
   "metadata": {},
   "source": [
    "### 오프셋(offset)\n",
    "- 특정 위치의 데이터를 선택하는 방법\n",
    "- [index] : 특정 위치의 하나의 데이터를 선택\n",
    "- [start:end] : 시작과 끝 위치 사이의 데이터를 선택\n",
    "- [start:end:stride] : 시작과 끝을 범위로 선택하되 점프하여 선택"
   ]
  },
  {
   "cell_type": "code",
   "execution_count": null,
   "metadata": {},
   "outputs": [],
   "source": []
  }
 ],
 "metadata": {
  "language_info": {
   "codemirror_mode": {
    "name": "ipython",
    "version": 3
   },
   "file_extension": ".py",
   "mimetype": "text/x-python",
   "name": "python",
   "nbconvert_exporter": "python",
   "pygments_lexer": "ipython3",
   "version": "3.8.2-final"
  },
  "orig_nbformat": 2,
  "kernelspec": {
   "name": "python37464bit2ca5af9ea4dd4c818af2de9ba3f7b37b",
   "display_name": "Python 3.7.4 64-bit"
  }
 },
 "nbformat": 4,
 "nbformat_minor": 2
}