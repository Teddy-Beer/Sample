{
 "cells": [
  {
   "cell_type": "markdown",
   "metadata": {},
   "source": [
    "### 자료형\n",
    "- 변수를 선언할 때 메모리에 저장공간이 만들어지는데, 저장공간에 저장하는 데이터의 자료 타입을 설정\n",
    "- 변수를 선언할 때 메모리 공간을 효율적으로 사용하기 위해서 만들어진 개념\n",
    "- 동적타이핑: 변수를 선언할 때 변수에 저장되는 값에 따라서 자동으로 데이터 타입이 설정되는 기능\n",
    "- 데이터 타입을 확인하는 함수: type(변수명)"
   ]
  },
  {
   "cell_type": "code",
   "execution_count": 1,
   "metadata": {},
   "outputs": [
    {
     "name": "stdout",
     "output_type": "stream",
     "text": [
      "1 python\n"
     ]
    }
   ],
   "source": [
    "a = 1\n",
    "b = 'python'\n",
    "print(a,b)"
   ]
  },
  {
   "cell_type": "code",
   "execution_count": 3,
   "metadata": {},
   "outputs": [
    {
     "name": "stdout",
     "output_type": "stream",
     "text": [
      "<class 'int'> <class 'str'>\n"
     ]
    }
   ],
   "source": [
    "print(type(a),type(b))"
   ]
  },
  {
   "cell_type": "markdown",
   "metadata": {},
   "source": [
    "### 자료형\n",
    "- integer: 정수\n",
    "- float: 실수\n",
    "- Boolean: True,False\n",
    "- String: 문자열\n",
    "- List: 순서가 있는 데이터의 집합\n",
    "- Tuple: 수정이 불가능한 순서가 있는 데이터의 집합\n",
    "- Dictionary: 순서가 없고, key값과 value값으로 이루어진 data type"
   ]
  },
  {
   "cell_type": "code",
   "execution_count": 7,
   "metadata": {},
   "outputs": [
    {
     "name": "stdout",
     "output_type": "stream",
     "text": [
      "<class 'int'> 1\n",
      "<class 'int'> -5\n",
      "<class 'int'> 0\n"
     ]
    }
   ],
   "source": [
    "# 정수\n",
    "a,b,c = 1,-5,0\n",
    "print(type(a),a)\n",
    "print(type(b),b)\n",
    "print(type(c),c)"
   ]
  },
  {
   "cell_type": "code",
   "execution_count": 8,
   "metadata": {},
   "outputs": [
    {
     "name": "stdout",
     "output_type": "stream",
     "text": [
      "<class 'float'> 1.3\n",
      "<class 'float'> -5.2\n",
      "<class 'float'> 0.0\n"
     ]
    }
   ],
   "source": [
    "# 실수\n",
    "a,b,c=1.3,-5.2,0.0\n",
    "print(type(a),a)\n",
    "print(type(b),b)\n",
    "print(type(c),c)"
   ]
  },
  {
   "cell_type": "code",
   "execution_count": 9,
   "metadata": {},
   "outputs": [
    {
     "name": "stdout",
     "output_type": "stream",
     "text": [
      "<class 'bool'> True\n",
      "<class 'bool'> False\n"
     ]
    }
   ],
   "source": [
    "# Boolean\n",
    "a,b = True, False\n",
    "print(type(a),a)\n",
    "print(type(b),b)"
   ]
  },
  {
   "cell_type": "code",
   "execution_count": 10,
   "metadata": {},
   "outputs": [
    {
     "name": "stdout",
     "output_type": "stream",
     "text": [
      "<class 'str'> data\n",
      "<class 'str'> \n"
     ]
    }
   ],
   "source": [
    "# String\n",
    "a,b = 'data',''\n",
    "print(type(a),a)\n",
    "print(type(b),b)"
   ]
  },
  {
   "cell_type": "code",
   "execution_count": 14,
   "metadata": {},
   "outputs": [
    {
     "name": "stdout",
     "output_type": "stream",
     "text": [
      "data \"science\" 'fast' campus\n"
     ]
    }
   ],
   "source": [
    "c = \"data \\\"science\\\" 'fast' campus\"\n",
    "print(c)\n",
    "#백슬래시\\\" "
   ]
  },
  {
   "cell_type": "markdown",
   "metadata": {},
   "source": [
    "데이터 타입에 따른 연산"
   ]
  },
  {
   "cell_type": "code",
   "execution_count": 15,
   "metadata": {},
   "outputs": [
    {
     "name": "stdout",
     "output_type": "stream",
     "text": [
      "3\n"
     ]
    }
   ],
   "source": [
    "a = 1+2\n",
    "print(a)"
   ]
  },
  {
   "cell_type": "code",
   "execution_count": 16,
   "metadata": {},
   "outputs": [
    {
     "name": "stdout",
     "output_type": "stream",
     "text": [
      "5\n"
     ]
    }
   ],
   "source": [
    "a,b = 2,3\n",
    "print(a+b)"
   ]
  },
  {
   "cell_type": "code",
   "execution_count": 17,
   "metadata": {},
   "outputs": [
    {
     "name": "stdout",
     "output_type": "stream",
     "text": [
      "fastcampus\n"
     ]
    }
   ],
   "source": [
    "a,b = \"fast\",'campus'\n",
    "print(a+b)"
   ]
  },
  {
   "cell_type": "code",
   "execution_count": 20,
   "metadata": {},
   "outputs": [
    {
     "name": "stdout",
     "output_type": "stream",
     "text": [
      "python python python python python \n"
     ]
    }
   ],
   "source": [
    "a = \"python \" *5\n",
    "print(a)"
   ]
  },
  {
   "cell_type": "markdown",
   "metadata": {},
   "source": [
    "### quiz 1\n",
    "- 변수의 선언 및 코드의 양을 최소화 해서 아래의 문자열을 출력하세요\n",
    "'''hello python hello python hello python'''"
   ]
  },
  {
   "cell_type": "code",
   "execution_count": 21,
   "metadata": {},
   "outputs": [
    {
     "name": "stdout",
     "output_type": "stream",
     "text": [
      "hello python hello python hello python \n"
     ]
    }
   ],
   "source": [
    "quiz1 = \"hello python \"\n",
    "print(quiz1*3)"
   ]
  },
  {
   "cell_type": "markdown",
   "metadata": {},
   "source": [
    "### quiz 2\n",
    " - 변수의 선언 및 코드의 양을 최소화 해서 아래의 문자열을 출력하세요 \"hello hello hello python python python\""
   ]
  },
  {
   "cell_type": "code",
   "execution_count": 24,
   "metadata": {},
   "outputs": [
    {
     "name": "stdout",
     "output_type": "stream",
     "text": [
      "hello hello hello python python python \n"
     ]
    }
   ],
   "source": [
    "quiz2_h,quiz2_p = \"hello \",\"python \"\n",
    "print(quiz2_h*3 + quiz2_p*3)"
   ]
  },
  {
   "cell_type": "code",
   "execution_count": 26,
   "metadata": {},
   "outputs": [
    {
     "name": "stdout",
     "output_type": "stream",
     "text": [
      "7\n"
     ]
    }
   ],
   "source": [
    "# 문자열의 길이 확인\n",
    "a = 'abcdefg'\n",
    "print(len(a))"
   ]
  },
  {
   "cell_type": "markdown",
   "metadata": {},
   "source": [
    "### 오프셋(offset)\n",
    "- 특정 위치의 데이터를 선택하는 방법\n",
    "- [index] : 특정 위치의 하나의 데이터를 선택\n",
    "- [start:end] : 시작과 끝 위치 사이의 데이터를 선택\n",
    "- [start:end:stride] : 시작과 끝을 범위로 선택하되 점프하여 선택"
   ]
  },
  {
   "cell_type": "code",
   "execution_count": 28,
   "metadata": {},
   "outputs": [
    {
     "name": "stdout",
     "output_type": "stream",
     "text": [
      "c\n"
     ]
    }
   ],
   "source": [
    "a = 'abcde'\n",
    "print(a[2])"
   ]
  },
  {
   "cell_type": "code",
   "execution_count": 32,
   "metadata": {},
   "outputs": [
    {
     "name": "stdout",
     "output_type": "stream",
     "text": [
      "cd\n"
     ]
    }
   ],
   "source": [
    "print(a[2:4]) #시작의 숫자만 포함!!, 끝의 숫자는 포함하지 않음!"
   ]
  },
  {
   "cell_type": "code",
   "execution_count": 30,
   "metadata": {},
   "outputs": [
    {
     "name": "stdout",
     "output_type": "stream",
     "text": [
      "de\n"
     ]
    }
   ],
   "source": [
    "print(a[3:])"
   ]
  },
  {
   "cell_type": "code",
   "execution_count": 33,
   "metadata": {},
   "outputs": [
    {
     "name": "stdout",
     "output_type": "stream",
     "text": [
      "abc\n",
      "abc\n"
     ]
    }
   ],
   "source": [
    "print(a[:3])\n",
    "print(a[0:3])"
   ]
  },
  {
   "cell_type": "code",
   "execution_count": 34,
   "metadata": {},
   "outputs": [
    {
     "name": "stdout",
     "output_type": "stream",
     "text": [
      "cde\n"
     ]
    }
   ],
   "source": [
    "print(a[2:])"
   ]
  },
  {
   "cell_type": "code",
   "execution_count": 36,
   "metadata": {},
   "outputs": [
    {
     "name": "stdout",
     "output_type": "stream",
     "text": [
      "ace\n",
      "bd\n"
     ]
    }
   ],
   "source": [
    "print(a[::2])\n",
    "print(a[1::2])"
   ]
  },
  {
   "cell_type": "code",
   "execution_count": 38,
   "metadata": {},
   "outputs": [
    {
     "name": "stdout",
     "output_type": "stream",
     "text": [
      "abcde de de\n"
     ]
    }
   ],
   "source": [
    "#오프셋에서의 음수 사용\n",
    "print(a,a[3:],a[-2:])"
   ]
  },
  {
   "cell_type": "code",
   "execution_count": 41,
   "metadata": {},
   "outputs": [
    {
     "name": "stdout",
     "output_type": "stream",
     "text": [
      "edcba\n"
     ]
    }
   ],
   "source": [
    "print(a[::-1]) # stride에 음수를 사용하면 역순정렬이 가능하다. "
   ]
  },
  {
   "cell_type": "markdown",
   "metadata": {},
   "source": [
    "### quiz3\n",
    "- 문자열 오프셋을 활용하여 문자열의 단어를 거꾸로 출력되도록 코드를 작성해 주세요\n",
    "'''data = 'hello world' \n",
    " result = 'world hello'''' "
   ]
  },
  {
   "cell_type": "code",
   "execution_count": 55,
   "metadata": {},
   "outputs": [
    {
     "name": "stdout",
     "output_type": "stream",
     "text": [
      "world hello \n"
     ]
    }
   ],
   "source": [
    "data = \"hello world\"\n",
    "result = data[6:] +' '+ data[:6]\n",
    "print(result)"
   ]
  },
  {
   "cell_type": "markdown",
   "metadata": {},
   "source": [
    "### quiz4\n",
    "- 0~9까지의 문자열 데이터를 짝수만 거꾸로 출력하는 코드를 작성하세요."
   ]
  },
  {
   "cell_type": "code",
   "execution_count": 1,
   "metadata": {},
   "outputs": [],
   "source": [
    "data = '0123456789'\n",
    "result = data[::2]\n",
    "result = result[::-1]"
   ]
  },
  {
   "cell_type": "code",
   "execution_count": 2,
   "metadata": {},
   "outputs": [
    {
     "output_type": "stream",
     "name": "stdout",
     "text": "86420\n"
    }
   ],
   "source": [
    "print(result)"
   ]
  },
  {
   "cell_type": "code",
   "execution_count": 72,
   "metadata": {},
   "outputs": [],
   "source": [
    "result1 = data[::2][::-1]"
   ]
  },
  {
   "cell_type": "code",
   "execution_count": 73,
   "metadata": {},
   "outputs": [
    {
     "name": "stdout",
     "output_type": "stream",
     "text": [
      "86420\n"
     ]
    }
   ],
   "source": [
    "print(result1)"
   ]
  },
  {
   "cell_type": "code",
   "execution_count": 76,
   "metadata": {},
   "outputs": [],
   "source": [
    "# 대문자로 변환하는 함수: .upper()\n",
    "# 소문자로 변환하는 함수: .lower()\n",
    "# 문자열 치환: .replace(\"바꿀문자열\",\"바뀔문자열\")\n",
    "# 앞뒤 공백 제거하는 함수: .strip()\n",
    "# 특정 문자열의 위치를 찾아주는 함수: .find(\"문자열\")"
   ]
  },
  {
   "cell_type": "code",
   "execution_count": 77,
   "metadata": {},
   "outputs": [
    {
     "name": "stdout",
     "output_type": "stream",
     "text": [
      "ABCDE\n"
     ]
    }
   ],
   "source": [
    "a ='abcde'\n",
    "print(a.upper())"
   ]
  },
  {
   "cell_type": "code",
   "execution_count": 79,
   "metadata": {},
   "outputs": [
    {
     "name": "stdout",
     "output_type": "stream",
     "text": [
      "abcde\n"
     ]
    }
   ],
   "source": [
    "a = a.lower()\n",
    "print(a)"
   ]
  },
  {
   "cell_type": "code",
   "execution_count": 80,
   "metadata": {},
   "outputs": [
    {
     "data": {
      "text/plain": [
       "'fastcampus data science'"
      ]
     },
     "execution_count": 80,
     "metadata": {},
     "output_type": "execute_result"
    }
   ],
   "source": [
    "a ='python data science'\n",
    "a.replace(\"python\",\"fastcampus\")"
   ]
  },
  {
   "cell_type": "code",
   "execution_count": 82,
   "metadata": {},
   "outputs": [
    {
     "name": "stdout",
     "output_type": "stream",
     "text": [
      "data science\n"
     ]
    }
   ],
   "source": [
    "a = \"   data science    \"\n",
    "a = a.strip()\n",
    "print(a)"
   ]
  },
  {
   "cell_type": "code",
   "execution_count": 85,
   "metadata": {},
   "outputs": [
    {
     "name": "stdout",
     "output_type": "stream",
     "text": [
      "5\n"
     ]
    }
   ],
   "source": [
    "print(a.find('science'))\n"
   ]
  },
  {
   "cell_type": "markdown",
   "metadata": {},
   "source": [
    "### quiz5\n",
    "- string_1,stirng_2 변수를 사용해서 data변수에 hello python! 이 저장되도록 코드를 작성"
   ]
  },
  {
   "cell_type": "code",
   "execution_count": 100,
   "metadata": {},
   "outputs": [],
   "source": [
    "string_1 =\"hello \"\n",
    "string_2 =\"python \""
   ]
  },
  {
   "cell_type": "code",
   "execution_count": 101,
   "metadata": {},
   "outputs": [
    {
     "name": "stdout",
     "output_type": "stream",
     "text": [
      "python!\n"
     ]
    }
   ],
   "source": [
    "string_2 = string_2.strip() + \"!\"\n",
    "print(string_2)"
   ]
  },
  {
   "cell_type": "code",
   "execution_count": 103,
   "metadata": {},
   "outputs": [],
   "source": [
    "result = string_1+string_2"
   ]
  },
  {
   "cell_type": "code",
   "execution_count": 104,
   "metadata": {},
   "outputs": [
    {
     "name": "stdout",
     "output_type": "stream",
     "text": [
      "hello python!\n"
     ]
    }
   ],
   "source": [
    "print(result)"
   ]
  },
  {
   "cell_type": "code",
   "execution_count": 105,
   "metadata": {},
   "outputs": [
    {
     "name": "stdout",
     "output_type": "stream",
     "text": [
      "hello python!\n"
     ]
    }
   ],
   "source": [
    "string3=string_2[:-1]+\"!\"\n",
    "result1 = string_1+string3\n",
    "print(result1)"
   ]
  },
  {
   "cell_type": "markdown",
   "metadata": {},
   "source": [
    "### quiz6\n",
    "- 오프셋과 문자열 함수를 이용해서 영문 문장의 가장 앞글자를 대문자로 가장 마지막에는 마침표가 찍히도록 코드를 작성하세요.\n",
    "'''Data = \"i like python\"'''"
   ]
  },
  {
   "cell_type": "code",
   "execution_count": 107,
   "metadata": {},
   "outputs": [
    {
     "name": "stdout",
     "output_type": "stream",
     "text": [
      "I like python.\n"
     ]
    }
   ],
   "source": [
    "data = 'i like python'\n",
    "data1 = data.upper()\n",
    "data2 = data +'.'\n",
    "result = data1[0] + data2[1:]\n",
    "print(result)"
   ]
  },
  {
   "cell_type": "code",
   "execution_count": 109,
   "metadata": {},
   "outputs": [
    {
     "name": "stdout",
     "output_type": "stream",
     "text": [
      "I like python.\n"
     ]
    }
   ],
   "source": [
    "data0 = 'i like python'\n",
    "result0 = data[0].upper() + data[1:] + '.'\n",
    "print(result0)"
   ]
  },
  {
   "cell_type": "code",
   "execution_count": 111,
   "metadata": {},
   "outputs": [
    {
     "data": {
      "text/plain": [
       "'ace'"
      ]
     },
     "execution_count": 111,
     "metadata": {},
     "output_type": "execute_result"
    }
   ],
   "source": [
    "a ='abcde'\n",
    "a[:5:2]"
   ]
  },
  {
   "cell_type": "code",
   "execution_count": 112,
   "metadata": {},
   "outputs": [],
   "source": [
    "ls = [\"python\", \"is\", \"best\", \"programing\", \"language\"]"
   ]
  },
  {
   "cell_type": "code",
   "execution_count": 114,
   "metadata": {},
   "outputs": [
    {
     "data": {
      "text/plain": [
       "'python is best programing language'"
      ]
     },
     "execution_count": 114,
     "metadata": {},
     "output_type": "execute_result"
    }
   ],
   "source": [
    "\" \".join(ls)"
   ]
  },
  {
   "cell_type": "code",
   "execution_count": 115,
   "metadata": {},
   "outputs": [],
   "source": [
    "a=ls[0][0].upper() + ls[0][1:]\n",
    "b=ls[1][0].upper() + ls[1][1:]\n",
    "c=ls[2][0].upper() + ls[2][1:]\n",
    "d=ls[3][0].upper() + ls[3][1:]\n",
    "e=ls[4][0].upper() + ls[4][1:]\n",
    "ls=[a,b,c,d,e]"
   ]
  },
  {
   "cell_type": "code",
   "execution_count": 117,
   "metadata": {},
   "outputs": [
    {
     "data": {
      "text/plain": [
       "'Python Is Best Programing Language.'"
      ]
     },
     "execution_count": 117,
     "metadata": {},
     "output_type": "execute_result"
    }
   ],
   "source": [
    "\" \".join(ls) +\".\""
   ]
  },
  {
   "cell_type": "code",
   "execution_count": 118,
   "metadata": {},
   "outputs": [],
   "source": [
    "ls1 = [\"python\", \"is\", \"best\", \"programing\", \"language\"]"
   ]
  },
  {
   "cell_type": "code",
   "execution_count": 120,
   "metadata": {},
   "outputs": [
    {
     "name": "stdout",
     "output_type": "stream",
     "text": [
      "Python is best programing language.\n"
     ]
    }
   ],
   "source": [
    "ls1 = \" \".join(ls1)\n",
    "result = ls1[0].upper() + ls1[1:]+\".\"\n",
    "print(result)"
   ]
  },
  {
   "cell_type": "code",
   "execution_count": 121,
   "metadata": {},
   "outputs": [],
   "source": [
    "number =[0,1,2,3,4,5,6,7,8,9]"
   ]
  },
  {
   "cell_type": "code",
   "execution_count": 124,
   "metadata": {},
   "outputs": [
    {
     "data": {
      "text/plain": [
       "[9, 7, 5, 3, 1]"
      ]
     },
     "execution_count": 124,
     "metadata": {},
     "output_type": "execute_result"
    }
   ],
   "source": [
    "number[1::2][::-1]"
   ]
  },
  {
   "cell_type": "code",
   "execution_count": null,
   "metadata": {},
   "outputs": [],
   "source": []
  }
 ],
 "metadata": {
  "kernelspec": {
   "display_name": "Python 3",
   "language": "python",
   "name": "python3"
  },
  "language_info": {
   "codemirror_mode": {
    "name": "ipython",
    "version": 3
   },
   "file_extension": ".py",
   "mimetype": "text/x-python",
   "name": "python",
   "nbconvert_exporter": "python",
   "pygments_lexer": "ipython3",
   "version": "3.8.2-final"
  }
 },
 "nbformat": 4,
 "nbformat_minor": 2
}