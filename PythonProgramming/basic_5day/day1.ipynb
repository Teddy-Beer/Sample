{
 "cells": [
  {
   "cell_type": "markdown",
   "metadata": {},
   "source": [
    "## 변수와 파이썬 자료형\n",
    "\n",
    "- 파이썬 변수란?\n",
    "    - 메모리(RAM)에 저장\n",
    "    - 비휘발성 메모리\n",
    "- 변수 선언법\n",
    "    - 변수이름, 자료형\n",
    "    - *파이썬은 동적 타이핑이 가능한 언어이므로 변수 선언시 자료구조를 명시해 주지 않아도 된다. \n",
    "- 자료형\n",
    "    - 숫자(Number)\n",
    "    - 불린(Boolean)\n",
    "    - 문자열\n",
    "    - 리스트\n",
    "    - 튜플\n",
    "    - 셋\n",
    "    - 딕셔너리  "
   ]
  },
  {
   "cell_type": "code",
   "execution_count": null,
   "metadata": {},
   "outputs": [],
   "source": []
  }
 ],
 "metadata": {
  "language_info": {
   "codemirror_mode": {
    "name": "ipython",
    "version": 3
   },
   "file_extension": ".py",
   "mimetype": "text/x-python",
   "name": "python",
   "nbconvert_exporter": "python",
   "pygments_lexer": "ipython3",
   "version": 3
  },
  "orig_nbformat": 2
 },
 "nbformat": 4,
 "nbformat_minor": 2
}